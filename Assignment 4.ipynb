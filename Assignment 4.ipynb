{
 "cells": [
  {
   "cell_type": "markdown",
   "metadata": {},
   "source": [
    "Write a Python Program(with class concepts) to find the area of the triangle using the below\n",
    "formula.\n",
    "area = (s*(s-a)*(s-b)*(s-c)) ** 0.5\n",
    "Function to take the length of the sides of triangle from user should be defined in the parent\n",
    "class and function to calculate the area should be defined in subclass."
   ]
  },
  {
   "cell_type": "code",
   "execution_count": 3,
   "metadata": {},
   "outputs": [
    {
     "name": "stdout",
     "output_type": "stream",
     "text": [
      "Enter side 3\n",
      "Enter First side length 5\n",
      "Enter second side length 6\n",
      "Enter third side length 6\n",
      "(4.499639659565539e-16+7.3484692283495345j)\n"
     ]
    }
   ],
   "source": [
    "class parentMathclass:\n",
    "    \n",
    "    def sideOfTrinangle(self):\n",
    "        s=input(\"Enter side \")\n",
    "        a=input(\"Enter First side length \")\n",
    "        b=input(\"Enter second side length \")\n",
    "        c=input(\"Enter third side length \")\n",
    "        return s,a,b,c\n",
    "    \n",
    "class childMathClass(parentMathclass):\n",
    "     \n",
    "    def calculatearea(self):\n",
    "        l=super().sideOfTrinangle()\n",
    "        s=int(l[0])\n",
    "        a=int(l[1])\n",
    "        b=int(l[2])\n",
    "        c=int(l[3])\n",
    "        area = (s*(s-a)*(s-b)*(s-c)) ** 0.5\n",
    "        print(area)\n",
    "        \n",
    "            \n",
    "c=childMathClass()\n",
    "c.calculatearea()"
   ]
  },
  {
   "cell_type": "markdown",
   "metadata": {},
   "source": [
    "1.2 Write a function filter_long_words() that takes a list of words and an integer n and returns\n",
    "the list of words that are longer than n."
   ]
  },
  {
   "cell_type": "code",
   "execution_count": 11,
   "metadata": {},
   "outputs": [
    {
     "data": {
      "text/plain": [
       "['werwerw', 'werwerwasdf']"
      ]
     },
     "execution_count": 11,
     "metadata": {},
     "output_type": "execute_result"
    }
   ],
   "source": [
    "def filter_long_words(wrds,n):\n",
    "    wrd=[]\n",
    "    for i in wrds:\n",
    "       if(len(i)>n) :\n",
    "            wrd.append(i)\n",
    "    return wrd\n",
    "    \n",
    "filter_long_words(['ad','wwe','werwe','werwerw','werwerwasdf'],5)"
   ]
  },
  {
   "cell_type": "markdown",
   "metadata": {},
   "source": [
    "2.1 Write a Python program using function concept that maps list of words into a list of integers\n",
    "representing the lengths of the corresponding words.\n",
    "Hint: If a list [ ab,cde,erty] is passed on to the python function output should come as [2,3,4]\n",
    "Here 2,3 and 4 are the lengths of the words in the list."
   ]
  },
  {
   "cell_type": "code",
   "execution_count": 12,
   "metadata": {},
   "outputs": [
    {
     "data": {
      "text/plain": [
       "[2, 3, 5, 7, 11]"
      ]
     },
     "execution_count": 12,
     "metadata": {},
     "output_type": "execute_result"
    }
   ],
   "source": [
    "def listofword(wrds):\n",
    "    wrdlength=[]\n",
    "    for i in wrds:\n",
    "        wrdlength.append(len(i))\n",
    "    return wrdlength\n",
    "\n",
    "listofword(['ad','wwe','werwe','werwerw','werwerwasdf'])\n",
    "        \n",
    "    "
   ]
  },
  {
   "cell_type": "markdown",
   "metadata": {},
   "source": [
    "2.2 Write a Python function which takes a character (i.e. a string of length 1) and returns True if\n",
    "it is a vowel, False otherwise"
   ]
  },
  {
   "cell_type": "code",
   "execution_count": 6,
   "metadata": {},
   "outputs": [],
   "source": [
    "def wrdVowelcheck(chr):\n",
    "    vowls=['a','i','e','o','u','y']\n",
    "    if len(chr)==1 :\n",
    "        for i in vowls:\n",
    "            if i==chr :\n",
    "                print(\"it is vowel\")\n",
    "                return True\n",
    "            else:\n",
    "                return False\n",
    "                \n",
    "    else:\n",
    "        print(\"enter only single character\")\n",
    "    "
   ]
  },
  {
   "cell_type": "code",
   "execution_count": 7,
   "metadata": {},
   "outputs": [
    {
     "data": {
      "text/plain": [
       "False"
      ]
     },
     "execution_count": 7,
     "metadata": {},
     "output_type": "execute_result"
    }
   ],
   "source": [
    "wrdVowelcheck(\"k\")"
   ]
  },
  {
   "cell_type": "code",
   "execution_count": null,
   "metadata": {},
   "outputs": [],
   "source": []
  },
  {
   "cell_type": "code",
   "execution_count": null,
   "metadata": {},
   "outputs": [],
   "source": []
  }
 ],
 "metadata": {
  "kernelspec": {
   "display_name": "Python 3",
   "language": "python",
   "name": "python3"
  }
 },
 "nbformat": 4,
 "nbformat_minor": 2
}
