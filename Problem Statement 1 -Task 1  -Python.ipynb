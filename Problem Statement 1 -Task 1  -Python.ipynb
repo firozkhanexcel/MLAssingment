{
 "cells": [
  {
   "cell_type": "markdown",
   "metadata": {},
   "source": [
    "1. Write a program which will find all such numbers which are divisible by 7 but are not a multiple\n",
    "of 5, between 2000 and 3200 (both included). The numbers obtained should be printed in a\n",
    "comma-separated sequence on a single line."
   ]
  },
  {
   "cell_type": "code",
   "execution_count": 34,
   "metadata": {},
   "outputs": [
    {
     "name": "stdout",
     "output_type": "stream",
     "text": [
      "3199,3192,3178,3171,3164,3157,3143,3136,3129,3122,3108,3101,3094,3087,3073,3066,3059,3052,3038,3031,3024,3017,3003,2996,2989,2982,2968,2961,2954,2947,2933,2926,2919,2912,2898,2891,2884,2877,2863,2856,2849,2842,2828,2821,2814,2807,2793,2786,2779,2772,2758,2751,2744,2737,2723,2716,2709,2702,2688,2681,2674,2667,2653,2646,2639,2632,2618,2611,2604,2597,2583,2576,2569,2562,2548,2541,2534,2527,2513,2506,2499,2492,2478,2471,2464,2457,2443,2436,2429,2422,2408,2401,2394,2387,2373,2366,2359,2352,2338,2331,2324,2317,2303,2296,2289,2282,2268,2261,2254,2247,2233,2226,2219,2212,2198,2191,2184,2177,2163,2156,2149,2142,2128,2121,2114,2107,2093,2086,2079,2072,2058,2051,2044,2037,2023,2016,2009,2002,\n"
     ]
    }
   ],
   "source": [
    "Allnumber=range(2000,3201)\n",
    "rslt=''\n",
    "for i in Allnumber:\n",
    "    if(i%7==0)and (i%5!=0):\n",
    "            rslt=str(i)+ \",\" +str(rslt)\n",
    "\n",
    "print(numbr)"
   ]
  },
  {
   "cell_type": "markdown",
   "metadata": {},
   "source": [
    "2. Write a Python program to accept the user's first and last name and then getting them printed in\n",
    "the the reverse order with a space between first name and last name."
   ]
  },
  {
   "cell_type": "code",
   "execution_count": 20,
   "metadata": {},
   "outputs": [
    {
     "name": "stdout",
     "output_type": "stream",
     "text": [
      "Enter First and Last Name : Sanjay Dutt\n"
     ]
    },
    {
     "data": {
      "text/plain": [
       "'ttuD yajnaS'"
      ]
     },
     "execution_count": 20,
     "metadata": {},
     "output_type": "execute_result"
    }
   ],
   "source": [
    "#Example 1--------\n",
    "#raw_input #python 2\n",
    "#input #Python 3x\n",
    "fullName=input('Enter First and Last Name : ')\n",
    "fullName[::-1]"
   ]
  },
  {
   "cell_type": "code",
   "execution_count": 18,
   "metadata": {},
   "outputs": [
    {
     "name": "stdout",
     "output_type": "stream",
     "text": [
      "Enter First Name : Sunny\n",
      "Enter Last Name : Deol\n"
     ]
    },
    {
     "data": {
      "text/plain": [
       "'ynnuS loeD'"
      ]
     },
     "execution_count": 18,
     "metadata": {},
     "output_type": "execute_result"
    }
   ],
   "source": [
    "#Example 2--------\n",
    "firstName=input('Enter First Name : ')\n",
    "lastName=input('Enter Last Name : ')\n",
    "firstName[::-1]+ ' ' + lastName[::-1]"
   ]
  },
  {
   "cell_type": "code",
   "execution_count": 125,
   "metadata": {},
   "outputs": [
    {
     "name": "stdout",
     "output_type": "stream",
     "text": [
      "Enter First and Last Name : Rohini Sharma\n",
      "Sharma Rohini\n"
     ]
    }
   ],
   "source": [
    "#Example 3--------change the order of fist name and last name\n",
    "fullName=input('Enter First and Last Name : ')\n",
    "Nam=fullName.split()\n",
    "print(Nam[1] + \" \" + Nam[0])"
   ]
  },
  {
   "cell_type": "markdown",
   "metadata": {},
   "source": [
    "3.Write a Python program to find the volume of a sphere with diameter 12 cm.\n",
    "Formula: V=4/3 * π * r 3"
   ]
  },
  {
   "cell_type": "code",
   "execution_count": 33,
   "metadata": {},
   "outputs": [
    {
     "name": "stdout",
     "output_type": "stream",
     "text": [
      "904.7786842338603\n",
      "904.7786842338603\n"
     ]
    }
   ],
   "source": [
    "import math\n",
    "diameter=12\n",
    "r=12/2\n",
    "#π=22/7\n",
    "π=math.pi\n",
    "V=4/3 * π * r**3\n",
    "print(V)\n",
    "V=4/3 * π * math.pow(r,3)\n",
    "print(V)\n",
    "\n",
    "\n",
    "\n"
   ]
  },
  {
   "cell_type": "markdown",
   "metadata": {},
   "source": [
    "4. Write a program which accepts a sequence of comma-separated numbers from console and\n",
    "    generate a list"
   ]
  },
  {
   "cell_type": "code",
   "execution_count": 46,
   "metadata": {},
   "outputs": [
    {
     "name": "stdout",
     "output_type": "stream",
     "text": [
      "Enter value with comma-seprated from comnsole sdf\n",
      "['sdf']\n",
      "<class 'list'>\n"
     ]
    }
   ],
   "source": [
    "#Example 1\n",
    "val=input(\"Enter value with comma-seprated from comnsole \")\n",
    "if val.find(\",\")!=0 :\n",
    "    l=val.split(\",\")\n",
    "    print(l)\n",
    "    print(type(l))\n",
    "    "
   ]
  },
  {
   "cell_type": "code",
   "execution_count": 45,
   "metadata": {},
   "outputs": [
    {
     "name": "stdout",
     "output_type": "stream",
     "text": [
      "Enter value with comma-seprated from comnsolesdf,asdf,sdf,asd\n",
      "['sdf', 'asdf', 'sdf', 'asd']\n",
      "<class 'list'>\n"
     ]
    }
   ],
   "source": [
    "#Example 2\n",
    "def onlyCommaSeprated():\n",
    "    val=input(\"Enter value with comma-seprated from comnsole :\")\n",
    "    if val.find(\",\")!=0 :\n",
    "        l=val.split(\",\")\n",
    "        print(l)\n",
    "        print(type(l))\n",
    "\n",
    "onlyCommaSeprated()"
   ]
  },
  {
   "cell_type": "code",
   "execution_count": 44,
   "metadata": {},
   "outputs": [
    {
     "name": "stdout",
     "output_type": "stream",
     "text": [
      "Enter value with comma-seprated from comnsolebv,qwer,qwer,qwer\n",
      "['bv', 'qwer', 'qwer', 'qwer']\n",
      "<class 'list'>\n"
     ]
    }
   ],
   "source": []
  },
  {
   "cell_type": "markdown",
   "metadata": {},
   "source": [
    "5.Create the below pattern using nested for loop in Python.\n",
    "*\n",
    "* *\n",
    "* * *\n",
    "* * * *\n",
    "* * * * *\n",
    "* * * *\n",
    "* * *\n",
    "* *\n",
    "*"
   ]
  },
  {
   "cell_type": "code",
   "execution_count": 80,
   "metadata": {},
   "outputs": [
    {
     "name": "stdout",
     "output_type": "stream",
     "text": [
      "* \n",
      "* * \n",
      "* * * \n",
      "* * * * \n",
      "* * * * * \n",
      "* * * * \n",
      "* * * \n",
      "* * \n",
      "* \n"
     ]
    }
   ],
   "source": [
    "i=1\n",
    "j=5\n",
    "while i < 10:\n",
    "    if(i<5):\n",
    "        print(\"* \"*i)\n",
    "    i=i+1\n",
    "    if(i>5):\n",
    "        print(\"* \"*j)\n",
    "        j=j-1\n",
    "        "
   ]
  },
  {
   "cell_type": "code",
   "execution_count": 120,
   "metadata": {},
   "outputs": [
    {
     "name": "stdout",
     "output_type": "stream",
     "text": [
      "* \n",
      "* * \n",
      "* * * \n",
      "* * * * \n",
      "* * * * * \n",
      "* * * * * * \n",
      "* * * * * * * \n",
      "* * * * * * * * \n",
      "* * * * * * * * * \n",
      "* * * * * * * * * * \n",
      "* * * * * * * * * * * \n",
      "* * * * * * * * * * * * \n",
      "* * * * * * * * * * * * * \n",
      "* * * * * * * * * * * * * * \n",
      "* * * * * * * * * * * * * * * \n",
      "* * * * * * * * * * * * * * * * \n",
      "* * * * * * * * * * * * * * * * * \n",
      "* * * * * * * * * * * * * * * * * * \n",
      "* * * * * * * * * * * * * * * * * * * \n",
      "* * * * * * * * * * * * * * * * * * * * \n",
      "* * * * * * * * * * * * * * * * * * * \n",
      "* * * * * * * * * * * * * * * * * * \n",
      "* * * * * * * * * * * * * * * * * \n",
      "* * * * * * * * * * * * * * * * \n",
      "* * * * * * * * * * * * * * * \n",
      "* * * * * * * * * * * * * * \n",
      "* * * * * * * * * * * * * \n",
      "* * * * * * * * * * * * \n",
      "* * * * * * * * * * * \n",
      "* * * * * * * * * * \n",
      "* * * * * * * * * \n",
      "* * * * * * * * \n",
      "* * * * * * * \n",
      "* * * * * * \n",
      "* * * * * \n",
      "* * * * \n",
      "* * * \n",
      "* * \n",
      "* \n"
     ]
    }
   ],
   "source": [
    "#Dynamic Pattern------------------------------------------\n",
    "j=20 # change value as per requried pattern size\n",
    "#j=int(input('enter any number greater then one '))\n",
    "for i in range(1,j+j):\n",
    "    if(i<j):\n",
    "        print(\"* \"*i)\n",
    "    i=i+1\n",
    "    if(i>j):\n",
    "        print(\"* \"*j)\n",
    "        j=j-1"
   ]
  },
  {
   "cell_type": "markdown",
   "metadata": {},
   "source": [
    "6. Write a Python program to reverse a word after accepting the input from the user."
   ]
  },
  {
   "cell_type": "code",
   "execution_count": 123,
   "metadata": {},
   "outputs": [
    {
     "name": "stdout",
     "output_type": "stream",
     "text": [
      "Enter any wordIneuron\n",
      "noruenI\n"
     ]
    }
   ],
   "source": [
    "word=input('Enter any word')\n",
    "print(word[::-1])"
   ]
  },
  {
   "cell_type": "raw",
   "metadata": {},
   "source": [
    "7. Write a Python Program to print the given string in the format specified in the sample output.\n",
    "WE, THE PEOPLE OF INDIA, having solemnly resolved to constitute India into a\n",
    "SOVEREIGN, SOCIALIST, SECULAR, DEMOCRATIC REPUBLIC and to secure to all\n",
    "its citizens\n",
    "Sample Output:\n",
    "WE, THE PEOPLE OF INDIA,\n",
    "having solemnly resolved to constitute India into a SOVEREIGN, !\n",
    "SOCIALIST, SECULAR, DEMOCRATIC REPUBLIC\n",
    "and to secure to all its citizens"
   ]
  },
  {
   "cell_type": "code",
   "execution_count": 166,
   "metadata": {},
   "outputs": [
    {
     "name": "stdout",
     "output_type": "stream",
     "text": [
      "WE, THE PEOPLE OF INDIA, \n",
      "having solemnly resolved to constitute India into a SOVEREIGN, !\n",
      "SOCIALIST, SECULAR, DEMOCRATIC REPUBLIC \n",
      "and to secure to all its citizens\n"
     ]
    }
   ],
   "source": [
    "sentence='''WE, THE PEOPLE OF INDIA, having solemnly resolved to constitute India into a\n",
    "SOVEREIGN, SOCIALIST, SECULAR, DEMOCRATIC REPUBLIC and to secure to all\n",
    "its citizens'''\n",
    "print('''WE, THE PEOPLE OF INDIA, '''+ '\\n'+'''having solemnly resolved to constitute India into a SOVEREIGN, '''+ '!\\n'+'''SOCIALIST, SECULAR, DEMOCRATIC REPUBLIC '''+ '\\n'+'''and to secure to all its citizens''')\n",
    "#print(sentence[:sentence.find(\"INDIA,\")+len(\"INDIA,\")]+\"\\n\" + sentence[sentence.find(\"INDIA,\")+len(\"INDIA,\")+1:sentence.find(\"SOCIALIST,\")+1])"
   ]
  },
  {
   "cell_type": "code",
   "execution_count": null,
   "metadata": {},
   "outputs": [],
   "source": []
  }
 ],
 "metadata": {
  "kernelspec": {
   "display_name": "Python 3",
   "language": "python",
   "name": "python3"
  },
  "language_info": {
   "codemirror_mode": {
    "name": "ipython",
    "version": 3
   },
   "file_extension": ".py",
   "mimetype": "text/x-python",
   "name": "python",
   "nbconvert_exporter": "python",
   "pygments_lexer": "ipython3",
   "version": "3.7.4"
  }
 },
 "nbformat": 4,
 "nbformat_minor": 2
}
