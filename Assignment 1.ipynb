{
 "cells": [
  {
   "cell_type": "markdown",
   "metadata": {},
   "source": [
    " ##Assignment 1"
   ]
  },
  {
   "cell_type": "markdown",
   "metadata": {},
   "source": [
    "1. Write a program which will find all such numbers which are divisible by 7 but are not a\n",
    "multiple of 5, between 2000 and 3200 (both included). The numbers obtained should be printed\n",
    "in a comma-separated sequence on a single line."
   ]
  },
  {
   "cell_type": "code",
   "execution_count": 3,
   "metadata": {},
   "outputs": [
    {
     "name": "stdout",
     "output_type": "stream",
     "text": [
      "3199,3192,3178,3171,3164,3157,3143,3136,3129,3122,3108,3101,3094,3087,3073,3066,3059,3052,3038,3031,3024,3017,3003,2996,2989,2982,2968,2961,2954,2947,2933,2926,2919,2912,2898,2891,2884,2877,2863,2856,2849,2842,2828,2821,2814,2807,2793,2786,2779,2772,2758,2751,2744,2737,2723,2716,2709,2702,2688,2681,2674,2667,2653,2646,2639,2632,2618,2611,2604,2597,2583,2576,2569,2562,2548,2541,2534,2527,2513,2506,2499,2492,2478,2471,2464,2457,2443,2436,2429,2422,2408,2401,2394,2387,2373,2366,2359,2352,2338,2331,2324,2317,2303,2296,2289,2282,2268,2261,2254,2247,2233,2226,2219,2212,2198,2191,2184,2177,2163,2156,2149,2142,2128,2121,2114,2107,2093,2086,2079,2072,2058,2051,2044,2037,2023,2016,2009,2002,\n"
     ]
    }
   ],
   "source": [
    "Allnumber=range(2000,3201)\n",
    "rslt=''\n",
    "for i in Allnumber:\n",
    "    if(i%7==0)and (i%5!=0):\n",
    "            rslt=str(i)+ \",\" +str(rslt)\n",
    "\n",
    "print(rslt)"
   ]
  },
  {
   "cell_type": "markdown",
   "metadata": {},
   "source": [
    "2. Write a Python program to accept the user's first and last name and then getting them\n",
    "printed in the the reverse order with a space between first name and last name."
   ]
  },
  {
   "cell_type": "code",
   "execution_count": 4,
   "metadata": {},
   "outputs": [
    {
     "name": "stdout",
     "output_type": "stream",
     "text": [
      "Enter First and Last Name : Sanjay\n"
     ]
    },
    {
     "data": {
      "text/plain": [
       "'yajnaS'"
      ]
     },
     "execution_count": 4,
     "metadata": {},
     "output_type": "execute_result"
    }
   ],
   "source": [
    "#Example 1--------\n",
    "#raw_input #python 2\n",
    "#input #Python 3x\n",
    "fullName=input('Enter First and Last Name : ')\n",
    "fullName[::-1]"
   ]
  },
  {
   "cell_type": "code",
   "execution_count": 5,
   "metadata": {},
   "outputs": [
    {
     "name": "stdout",
     "output_type": "stream",
     "text": [
      "Enter First Name : Sanju\n",
      "Enter Last Name : Baba\n"
     ]
    },
    {
     "data": {
      "text/plain": [
       "'ujnaS abaB'"
      ]
     },
     "execution_count": 5,
     "metadata": {},
     "output_type": "execute_result"
    }
   ],
   "source": [
    "#Example 2--------\n",
    "firstName=input('Enter First Name : ')\n",
    "lastName=input('Enter Last Name : ')\n",
    "firstName[::-1]+ ' ' + lastName[::-1]"
   ]
  },
  {
   "cell_type": "code",
   "execution_count": 7,
   "metadata": {},
   "outputs": [
    {
     "name": "stdout",
     "output_type": "stream",
     "text": [
      "Enter First and Last Name : Sunil Shetty\n",
      "Shetty Sunil\n"
     ]
    }
   ],
   "source": [
    "#Example 3--------change the order of fist name and last name\n",
    "fullName=input('Enter First and Last Name : ')\n",
    "Nam=fullName.split()\n",
    "print(Nam[1] + \" \" + Nam[0])"
   ]
  },
  {
   "cell_type": "code",
   "execution_count": null,
   "metadata": {},
   "outputs": [],
   "source": [
    "3. Write a Python program to find the volume of a sphere with diameter 12 cm.\n",
    "Formula: V=4/3 * π * r"
   ]
  },
  {
   "cell_type": "code",
   "execution_count": 9,
   "metadata": {},
   "outputs": [
    {
     "name": "stdout",
     "output_type": "stream",
     "text": [
      "904.7786842338603\n",
      "904.7786842338603\n"
     ]
    }
   ],
   "source": [
    "import math\n",
    "diameter=12\n",
    "r=12/2\n",
    "#π=22/7\n",
    "π=math.pi\n",
    "V=4/3 * π * r**3\n",
    "print(V)\n",
    "V=4/3 * π * math.pow(r,3)\n",
    "print(V)"
   ]
  },
  {
   "cell_type": "code",
   "execution_count": null,
   "metadata": {},
   "outputs": [],
   "source": []
  }
 ],
 "metadata": {
  "kernelspec": {
   "display_name": "Python 3",
   "language": "python",
   "name": "python3"
  },
  "language_info": {
   "codemirror_mode": {
    "name": "ipython",
    "version": 3
   },
   "file_extension": ".py",
   "mimetype": "text/x-python",
   "name": "python",
   "nbconvert_exporter": "python",
   "pygments_lexer": "ipython3",
   "version": "3.7.4"
  }
 },
 "nbformat": 4,
 "nbformat_minor": 2
}
